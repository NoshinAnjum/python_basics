{
 "cells": [
  {
   "cell_type": "markdown",
   "metadata": {},
   "source": [
    "https://pynative.com/python-basic-exercise-for-beginners/"
   ]
  },
  {
   "cell_type": "markdown",
   "metadata": {},
   "source": [
    "Exercise 1: Calculate the multiplication and sum of two numbers\n",
    "Given two integer numbers return their product only if the product is greater than 1000, else return their sum."
   ]
  },
  {
   "cell_type": "code",
   "execution_count": 9,
   "metadata": {},
   "outputs": [],
   "source": [
    "def m_s(num1,num2):\n",
    "    product= num1*num2\n",
    "    if product >1000:\n",
    "        return product\n",
    "    else:\n",
    "        return num1+num2"
   ]
  },
  {
   "cell_type": "code",
   "execution_count": 10,
   "metadata": {},
   "outputs": [
    {
     "data": {
      "text/plain": [
       "50"
      ]
     },
     "execution_count": 10,
     "metadata": {},
     "output_type": "execute_result"
    }
   ],
   "source": [
    "m_s(20,30)"
   ]
  },
  {
   "cell_type": "code",
   "execution_count": 11,
   "metadata": {},
   "outputs": [
    {
     "data": {
      "text/plain": [
       "1200"
      ]
     },
     "execution_count": 11,
     "metadata": {},
     "output_type": "execute_result"
    }
   ],
   "source": [
    "m_s(40,30)"
   ]
  },
  {
   "cell_type": "markdown",
   "metadata": {},
   "source": [
    "Exercise 2: Print the sum of the current number and the previous number\n",
    "Write a program to iterate the first 10 numbers and in each iteration, print the sum of the current and previous number."
   ]
  },
  {
   "cell_type": "code",
   "execution_count": 31,
   "metadata": {},
   "outputs": [
    {
     "name": "stdout",
     "output_type": "stream",
     "text": [
      "Current Number 0 Previous Number  0  Sum:  0\n",
      "Current Number 1 Previous Number  0  Sum:  1\n",
      "Current Number 2 Previous Number  1  Sum:  3\n",
      "Current Number 3 Previous Number  2  Sum:  5\n",
      "Current Number 4 Previous Number  3  Sum:  7\n",
      "Current Number 5 Previous Number  4  Sum:  9\n",
      "Current Number 6 Previous Number  5  Sum:  11\n",
      "Current Number 7 Previous Number  6  Sum:  13\n",
      "Current Number 8 Previous Number  7  Sum:  15\n",
      "Current Number 9 Previous Number  8  Sum:  17\n"
     ]
    }
   ],
   "source": [
    "def iterate():\n",
    "    previous=0\n",
    "    for x in range(10):\n",
    "        sum1=previous+x\n",
    "        print(f'Current Number {x} Previous Number  {previous}  Sum:  {sum1}')\n",
    "        previous = x\n",
    "iterate()\n",
    "        \n",
    "        "
   ]
  },
  {
   "cell_type": "markdown",
   "metadata": {},
   "source": [
    "Exercise 3: Print characters from a string that are present at an even index number\n",
    "Write a program to accept a string from the user and display characters that are present at an even index number.\n",
    "\n",
    "For example, str = \"pynative\" so you should display ‘p’, ‘n’, ‘t’, ‘v’."
   ]
  },
  {
   "cell_type": "code",
   "execution_count": 36,
   "metadata": {},
   "outputs": [
    {
     "name": "stdout",
     "output_type": "stream",
     "text": [
      "p\n",
      "n\n",
      "t\n",
      "v\n"
     ]
    }
   ],
   "source": [
    "def check(string):\n",
    "    size = len(string)\n",
    "    for i in range(0,size):\n",
    "        if i%2 == 0:\n",
    "            print(string[i])\n",
    "check('pynative')"
   ]
  },
  {
   "cell_type": "markdown",
   "metadata": {},
   "source": [
    "Exercise 4: Remove first n characters from a string\n",
    "Write a program to remove characters from a string starting from zero up to n and return a new string.\n",
    "\n",
    "For example:\n",
    "\n",
    "remove_chars(\"pynative\", 4) so output must be tive. Here we need to remove first four characters from a string.\n",
    "remove_chars(\"pynative\", 2) so output must be native. Here we need to remove first two characters from a string.\n",
    "Note: n must be less than the length of the string."
   ]
  },
  {
   "cell_type": "code",
   "execution_count": 42,
   "metadata": {},
   "outputs": [
    {
     "name": "stdout",
     "output_type": "stream",
     "text": [
      "t\n",
      "i\n",
      "v\n",
      "e\n"
     ]
    }
   ],
   "source": [
    "def remove_chars(string,n):\n",
    "    size=len(string)\n",
    "    for i in range(0,size):\n",
    "        if i>=n:\n",
    "            print(string[i])\n",
    "remove_chars('pynative',4)"
   ]
  },
  {
   "cell_type": "code",
   "execution_count": 44,
   "metadata": {},
   "outputs": [
    {
     "name": "stdout",
     "output_type": "stream",
     "text": [
      "tive\n"
     ]
    }
   ],
   "source": [
    "word=\"pynative\"\n",
    "x = word[4:]\n",
    "print(x)"
   ]
  },
  {
   "cell_type": "markdown",
   "metadata": {},
   "source": [
    "Exercise 5: Check if the first and last number of a list is the same\n",
    "Write a function to return True if the first and last number of a given list is same. If numbers are different then return False."
   ]
  },
  {
   "cell_type": "code",
   "execution_count": 49,
   "metadata": {},
   "outputs": [
    {
     "name": "stdout",
     "output_type": "stream",
     "text": [
      "Given list: [10, 20, 30, 40, 10]\n",
      "result is True\n",
      "Given list: [75, 65, 35, 75, 30]\n",
      "result is False\n"
     ]
    }
   ],
   "source": [
    "def first_last_same(numberList):\n",
    "    print(\"Given list:\", numberList)\n",
    "    \n",
    "    first_num = numberList[0]\n",
    "    last_num = numberList[-1]\n",
    "    \n",
    "    if first_num == last_num:\n",
    "        return True\n",
    "    else:\n",
    "        return False\n",
    "\n",
    "numbers_x = [10, 20, 30, 40, 10]\n",
    "print(\"result is\", first_last_same(numbers_x))\n",
    "\n",
    "numbers_y = [75, 65, 35, 75, 30]\n",
    "print(\"result is\", first_last_same(numbers_y))"
   ]
  },
  {
   "cell_type": "markdown",
   "metadata": {},
   "source": [
    "Exercise 6: Display numbers divisible by 5 from a list\n",
    "Iterate the given list of numbers and print only those numbers which are divisible by 5"
   ]
  },
  {
   "cell_type": "code",
   "execution_count": 56,
   "metadata": {},
   "outputs": [
    {
     "name": "stdout",
     "output_type": "stream",
     "text": [
      "givent list is [10, 20, 33, 46, 55]\n",
      "Divisible by 5\n",
      "10\n",
      "20\n",
      "55\n"
     ]
    }
   ],
   "source": [
    "def divisible(numlist):\n",
    "    num = len(numlist)\n",
    "    print(f'givent list is {numlist}\\nDivisible by 5')\n",
    "    for x in range(num):\n",
    "        if numlist[x] % 5 == 0:\n",
    "            print(numlist[x])\n",
    "divisible([10, 20, 33, 46, 55])"
   ]
  },
  {
   "cell_type": "markdown",
   "metadata": {},
   "source": [
    "Exercise 7: Return the count of a given substring from a string\n",
    "Write a program to find how many times substring “Emma” appears in the given string."
   ]
  },
  {
   "cell_type": "code",
   "execution_count": 58,
   "metadata": {},
   "outputs": [
    {
     "name": "stdout",
     "output_type": "stream",
     "text": [
      "Emma appeared 2 times\n"
     ]
    }
   ],
   "source": [
    "def appear(string):\n",
    "    count = string.count('Emma')\n",
    "    print(f'Emma appeared {count} times')\n",
    "\n",
    "str_x = \"Emma is good developer. Emma is a writer\"\n",
    "appear(str_x)"
   ]
  },
  {
   "cell_type": "markdown",
   "metadata": {},
   "source": [
    "Exercise 8: Print the following pattern"
   ]
  },
  {
   "cell_type": "code",
   "execution_count": 76,
   "metadata": {},
   "outputs": [
    {
     "name": "stdout",
     "output_type": "stream",
     "text": [
      "\n",
      "\n",
      "1 \n",
      "\n",
      "2 2 \n",
      "\n",
      "3 3 3 \n",
      "\n",
      "4 4 4 4 \n",
      "\n",
      "5 5 5 5 5 \n",
      "\n"
     ]
    }
   ],
   "source": [
    "for i in range(6):\n",
    "    for j in range(i):\n",
    "        print(i,end=\" \")\n",
    "    print('\\n')\n",
    "        "
   ]
  },
  {
   "cell_type": "markdown",
   "metadata": {},
   "source": [
    "Exercise 9: Check Palindrome Number\n",
    "Write a program to check if the given number is a palindrome number.\n",
    "\n",
    "A palindrome number is a number that is same after reverse. For example 545, is the palindrome numbers"
   ]
  },
  {
   "cell_type": "code",
   "execution_count": 90,
   "metadata": {},
   "outputs": [
    {
     "name": "stdout",
     "output_type": "stream",
     "text": [
      "palindrome\n"
     ]
    }
   ],
   "source": [
    "num = str(121)\n",
    "re=str(num)[::-1]\n",
    "\n",
    "if num==re:\n",
    "    print('palindrome')\n",
    "else:\n",
    "    print('not palindrome')"
   ]
  },
  {
   "cell_type": "markdown",
   "metadata": {},
   "source": [
    "Exercise 10: Create a new list from a two list using the following condition\n",
    "Create a new list from a two list using the following condition\n",
    "\n",
    "Given a two list of numbers, write a program to create a new list such that the new list should contain odd numbers from the first list and even numbers from the second list."
   ]
  },
  {
   "cell_type": "code",
   "execution_count": 94,
   "metadata": {},
   "outputs": [
    {
     "name": "stdout",
     "output_type": "stream",
     "text": [
      "[25, 35, 40, 60, 90]\n"
     ]
    }
   ],
   "source": [
    "def newlist(list1,list2):\n",
    "    size1 = len(list1)\n",
    "    size2 = len(list2)\n",
    "    list3 = []\n",
    "    for i in range(size1):\n",
    "        if list1[i] % 2 != 0:\n",
    "            list3.append(list1[i])\n",
    "    for i in range(size2):\n",
    "        if list2[i] % 2 == 0:\n",
    "            list3.append(list2[i])\n",
    "    print(list3)\n",
    "    \n",
    "l1 = [10, 20, 25, 30, 35]\n",
    "l2 = [40, 45, 60, 75, 90]\n",
    "newlist(l1,l2)"
   ]
  },
  {
   "cell_type": "code",
   "execution_count": 97,
   "metadata": {},
   "outputs": [
    {
     "name": "stdout",
     "output_type": "stream",
     "text": [
      "[25, 35, 40, 60, 90]\n"
     ]
    }
   ],
   "source": [
    "def newlist(list1,list2):\n",
    "#     size1 = len(list1)\n",
    "#     size2 = len(list2)\n",
    "    list3 = []\n",
    "    for i in list1:\n",
    "        if i % 2 != 0:\n",
    "            list3.append(i)\n",
    "    for i in list2:\n",
    "        if i % 2 == 0:\n",
    "            list3.append(i)\n",
    "    print(list3)\n",
    "    \n",
    "l1 = [10, 20, 25, 30, 35]\n",
    "l2 = [40, 45, 60, 75, 90]\n",
    "newlist(l1,l2)"
   ]
  },
  {
   "cell_type": "markdown",
   "metadata": {},
   "source": [
    "Exercise 11: Write a Program to extract each digit from an integer in the reverse order.\n",
    "For example, If the given int is 7536, the output shall be “6 3 5 7“, with a space separating the digits."
   ]
  },
  {
   "cell_type": "code",
   "execution_count": 101,
   "metadata": {},
   "outputs": [
    {
     "name": "stdout",
     "output_type": "stream",
     "text": [
      "6 3 5 7 "
     ]
    }
   ],
   "source": [
    "num = 7536\n",
    "while num > 0:\n",
    "    digit = num % 10\n",
    "\n",
    "    num = num // 10\n",
    "    print(digit, end=' ')\n"
   ]
  },
  {
   "cell_type": "markdown",
   "metadata": {},
   "source": [
    "Exercise 12: Calculate income tax for the given income by adhering to the below rules\n",
    "For example, suppose the taxable income is 45000 the income tax payable is\n",
    "\n",
    "10000*0% + 10000*10%  + 25000*20% = $6000."
   ]
  },
  {
   "cell_type": "code",
   "execution_count": 144,
   "metadata": {},
   "outputs": [
    {
     "name": "stdout",
     "output_type": "stream",
     "text": [
      "6000.0\n"
     ]
    }
   ],
   "source": [
    "def tax(sal):\n",
    "    tax=0\n",
    "    if sal<=10000:\n",
    "        tax=0\n",
    "    elif sal<=20000:\n",
    "        x=sal-10000\n",
    "        tax=10000*10/100\n",
    "    elif sal>=20000:\n",
    "        tax = 10000*10/100\n",
    "        tax=tax+(sal-20000)*20/100\n",
    "    print(tax)\n",
    "    \n",
    "tax(45000)\n",
    "    \n",
    "        \n",
    "        \n",
    "    "
   ]
  },
  {
   "cell_type": "markdown",
   "metadata": {},
   "source": [
    "Exercise 13: Print multiplication table form 1 to 10"
   ]
  },
  {
   "cell_type": "code",
   "execution_count": 122,
   "metadata": {
    "scrolled": true
   },
   "outputs": [
    {
     "name": "stdout",
     "output_type": "stream",
     "text": [
      "1 2 3 4 5 6 7 8 9 10 \n",
      "\n",
      "2 4 6 8 10 12 14 16 18 20 \n",
      "\n",
      "3 6 9 12 15 18 21 24 27 30 \n",
      "\n",
      "4 8 12 16 20 24 28 32 36 40 \n",
      "\n",
      "5 10 15 20 25 30 35 40 45 50 \n",
      "\n",
      "6 12 18 24 30 36 42 48 54 60 \n",
      "\n",
      "7 14 21 28 35 42 49 56 63 70 \n",
      "\n",
      "8 16 24 32 40 48 56 64 72 80 \n",
      "\n",
      "9 18 27 36 45 54 63 72 81 90 \n",
      "\n",
      "10 20 30 40 50 60 70 80 90 100 \n",
      "\n"
     ]
    }
   ],
   "source": [
    "for i in range(1,11):\n",
    "    for j in range(1,11):\n",
    "        print(i*j, end=' ')\n",
    "    print('\\n')    "
   ]
  },
  {
   "cell_type": "markdown",
   "metadata": {},
   "source": [
    "Exercise 14: Print downward Half-Pyramid Pattern with Star (asterisk)"
   ]
  },
  {
   "cell_type": "code",
   "execution_count": 128,
   "metadata": {},
   "outputs": [
    {
     "name": "stdout",
     "output_type": "stream",
     "text": [
      "* * * * *  \n",
      "* * * *  \n",
      "* * *  \n",
      "* *  \n",
      "*  \n",
      " \n"
     ]
    }
   ],
   "source": [
    "for i in range(6, 0, -1):\n",
    "    for j in range(0, i - 1):\n",
    "        print(\"*\", end=' ')\n",
    "    print(\" \")"
   ]
  },
  {
   "cell_type": "markdown",
   "metadata": {},
   "source": [
    "Exercise 15: Write a function called exponent(base, exp) that returns an int value of base raises to the power of exp."
   ]
  },
  {
   "cell_type": "code",
   "execution_count": 106,
   "metadata": {},
   "outputs": [
    {
     "name": "stdout",
     "output_type": "stream",
     "text": [
      "625\n",
      "32\n"
     ]
    }
   ],
   "source": [
    "def exponent(base,exp):\n",
    "    print(base**exp)\n",
    "exponent(5,4)\n",
    "exponent(2,5)\n",
    "\n",
    "    "
   ]
  }
 ],
 "metadata": {
  "kernelspec": {
   "display_name": "Python 3",
   "language": "python",
   "name": "python3"
  },
  "language_info": {
   "codemirror_mode": {
    "name": "ipython",
    "version": 3
   },
   "file_extension": ".py",
   "mimetype": "text/x-python",
   "name": "python",
   "nbconvert_exporter": "python",
   "pygments_lexer": "ipython3",
   "version": "3.8.8"
  }
 },
 "nbformat": 4,
 "nbformat_minor": 2
}
